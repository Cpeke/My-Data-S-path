{
 "cells": [
  {
   "cell_type": "markdown",
   "id": "a25eca91-a76f-4d2f-9598-51e7f9d80cbe",
   "metadata": {},
   "source": [
    "# Data Science Tools and Ecosystem"
   ]
  },
  {
   "cell_type": "markdown",
   "id": "7175a9ca-1f71-40db-9075-309d0558d2cc",
   "metadata": {},
   "source": [
    "In this notebook, Data Science Tools and Ecosystem are summarized.\n",
    "\n",
    "**Objetives:**\n",
    "- List popular languages for Data Science.\n",
    "- Understand the basics of Jupyter Notebooks.\n",
    "- Explore common libraries used in Data Science.\n",
    "- Practice writing Python code in Jupyter.\n",
    "- Learn to visualize data using matplotlib and seaborn."
   ]
  },
  {
   "cell_type": "markdown",
   "id": "7c69b1b8-807b-4bf7-982a-d412f40cb5b6",
   "metadata": {},
   "source": [
    "### Some of the popular languages that Data Scientists use are:\n",
    "1. Python\n",
    "2. R\n",
    "3. SQL"
   ]
  },
  {
   "cell_type": "markdown",
   "id": "e49363dc-1cc0-4988-bbc5-64d762ac9635",
   "metadata": {},
   "source": [
    "### Some of the commonly used libraries used by Data Scientists include:\n",
    "1. Pandas\n",
    "2. NumPy\n",
    "3. Seaborn"
   ]
  },
  {
   "cell_type": "markdown",
   "id": "adbb2149-fd47-498c-80d2-25b37779c0de",
   "metadata": {},
   "source": [
    "### Development environment open source tools used in data science:"
   ]
  },
  {
   "cell_type": "markdown",
   "id": "3a343477-017a-4d87-b64c-49e6ffde0779",
   "metadata": {},
   "source": [
    "|Data Science Tools|\n",
    "|------------------|\n",
    "|Jupyter Notebook  |\n",
    "|Rstudio           |\n",
    "|Apache Zeppelin   |    "
   ]
  },
  {
   "cell_type": "markdown",
   "id": "d1e64e3b-bb61-4a93-ad24-426e1f7ddd97",
   "metadata": {},
   "source": [
    "### Below are a few examples of evaluating arithmetic expressions in Python:"
   ]
  },
  {
   "cell_type": "code",
   "execution_count": 19,
   "id": "6b72c59a-683a-4e6b-bb32-249076ed89c1",
   "metadata": {},
   "outputs": [
    {
     "data": {
      "text/plain": [
       "17"
      ]
     },
     "execution_count": 19,
     "metadata": {},
     "output_type": "execute_result"
    }
   ],
   "source": [
    "# This a simple arithmetic expression to mutiply then add integers\n",
    "(3*4)+5"
   ]
  },
  {
   "cell_type": "code",
   "execution_count": 27,
   "id": "98a34dfd-7389-4e90-be74-d529499631da",
   "metadata": {},
   "outputs": [
    {
     "name": "stdout",
     "output_type": "stream",
     "text": [
      "3.3333333333333335\n"
     ]
    }
   ],
   "source": [
    "# This will convert 200 minutes to hours by diving by 60\n",
    "x = 200\n",
    "y = x/60\n",
    "print(y) "
   ]
  },
  {
   "cell_type": "markdown",
   "id": "398e36a2-d727-4d30-8fe7-e1ddc605528e",
   "metadata": {},
   "source": [
    "## Author\n",
    "\n",
    "Mateo Balanta"
   ]
  },
  {
   "cell_type": "code",
   "execution_count": null,
   "id": "f23a1348-79e4-4a15-9f4e-17082b02c239",
   "metadata": {},
   "outputs": [],
   "source": []
  }
 ],
 "metadata": {
  "kernelspec": {
   "display_name": "Python [conda env:base] *",
   "language": "python",
   "name": "conda-base-py"
  },
  "language_info": {
   "codemirror_mode": {
    "name": "ipython",
    "version": 3
   },
   "file_extension": ".py",
   "mimetype": "text/x-python",
   "name": "python",
   "nbconvert_exporter": "python",
   "pygments_lexer": "ipython3",
   "version": "3.12.7"
  }
 },
 "nbformat": 4,
 "nbformat_minor": 5
}
